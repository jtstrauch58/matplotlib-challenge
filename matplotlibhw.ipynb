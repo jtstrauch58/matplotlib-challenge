{
 "cells": [
  {
   "cell_type": "markdown",
   "metadata": {},
   "source": [
    "# Matplotlib Challenge Homework\n",
    "Jeremy Strauch\n",
    "UPenn Data Analytics Boot Camp Fall 2020 Cohort\n",
    "February 3rd 2021"
   ]
  },
  {
   "cell_type": "markdown",
   "metadata": {},
   "source": [
    "## Insights and observations from the Assignment\n"
   ]
  },
  {
   "cell_type": "markdown",
   "metadata": {},
   "source": [
    "(1) The study measured tumor growth for 249 mice who received injections from nine potential treatment drugs.There was one placebo group.\n",
    "(2) The data set consisted of five duplicate entries for g989, which were removed prior to data analysis\n",
    "(3) A total of 1888 separate observations of tumore growth vs time were made through the study\n",
    "(4) The distribution of mouse gender was roughly 50:50 male:female\n",
    "(5) Mean tumor volume was markedly smaller for regimens using Ramicane and Capomulin\n",
    "(6) The placebo group out performed Stelasyn, Naftisol and Ketapril\n",
    "(7) Tumor volume data for Capomulin, Ramicane, Infubinol and Ceftamin were tightly grouped with no outliers from the distribution\n",
    "(8) Steady tumor size reduction va time was observed with mouse s185 using Capomulin\n",
    "(9) A positive, direct correlation was calculated between mouse weight and tumor volume for mice using Capomulin (pearson correlation 0.84 and r2 = 0.71 for linear fit regression)"
   ]
  },
  {
   "cell_type": "code",
   "execution_count": 1,
   "metadata": {},
   "outputs": [],
   "source": [
    "# Dependencies and Setup\n",
    "import matplotlib.pyplot as plt\n",
    "import pandas as pd\n",
    "import scipy.stats as st\n",
    "from scipy.stats import sem\n",
    "from scipy.stats import linregress\n",
    "import numpy as np"
   ]
  },
  {
   "cell_type": "code",
   "execution_count": 2,
   "metadata": {},
   "outputs": [
    {
     "name": "stdout",
     "output_type": "stream",
     "text": [
      "  Mouse ID Drug Regimen     Sex  Age_months  Weight (g)\n",
      "0     k403     Ramicane    Male          21          16\n",
      "1     s185    Capomulin  Female           3          17\n",
      "2     x401    Capomulin  Female          16          15\n",
      "3     m601    Capomulin    Male          22          17\n",
      "  Mouse ID  Timepoint  Tumor Volume (mm3)  Metastatic Sites\n",
      "0     b128          0                45.0                 0\n",
      "1     f932          0                45.0                 0\n",
      "2     g107          0                45.0                 0\n",
      "3     a457          0                45.0                 0\n"
     ]
    }
   ],
   "source": [
    "# Import study data files\n",
    "mouse_path = \"data/Mouse_metadata.csv\"\n",
    "study_path = \"data/Study_results.csv\"\n",
    "\n",
    "# Read the mouse data and the study results\n",
    "mouse_df = pd.read_csv(mouse_path)\n",
    "study_df = pd.read_csv(study_path)\n",
    "print(mouse_df.head(4))\n",
    "print(study_df.head(4))\n",
    "\n"
   ]
  },
  {
   "cell_type": "code",
   "execution_count": 3,
   "metadata": {},
   "outputs": [
    {
     "name": "stdout",
     "output_type": "stream",
     "text": [
      "  Mouse ID Drug Regimen   Sex  Age_months  Weight (g)  Timepoint  \\\n",
      "0     k403     Ramicane  Male          21          16          0   \n",
      "1     k403     Ramicane  Male          21          16          5   \n",
      "2     k403     Ramicane  Male          21          16         10   \n",
      "3     k403     Ramicane  Male          21          16         15   \n",
      "4     k403     Ramicane  Male          21          16         20   \n",
      "\n",
      "   Tumor Volume (mm3)  Metastatic Sites  \n",
      "0           45.000000                 0  \n",
      "1           38.825898                 0  \n",
      "2           35.014271                 1  \n",
      "3           34.223992                 1  \n",
      "4           32.997729                 1  \n",
      "(1893, 8)\n",
      "Mouse ID               object\n",
      "Drug Regimen           object\n",
      "Sex                    object\n",
      "Age_months              int64\n",
      "Weight (g)              int64\n",
      "Timepoint               int64\n",
      "Tumor Volume (mm3)    float64\n",
      "Metastatic Sites        int64\n",
      "dtype: object\n"
     ]
    }
   ],
   "source": [
    "# Combine the data sets into one data frame\n",
    "data_df = pd.merge(mouse_df, study_df, on='Mouse ID')\n",
    "\n",
    "# Get a sense of the data frame size and data\n",
    "print(data_df.head(5))\n",
    "print(data_df.shape)\n",
    "print(data_df.dtypes)"
   ]
  },
  {
   "cell_type": "code",
   "execution_count": 4,
   "metadata": {},
   "outputs": [
    {
     "name": "stdout",
     "output_type": "stream",
     "text": [
      "\n",
      "The number of mice in the study is:  249\n",
      "\n"
     ]
    }
   ],
   "source": [
    "# Check the number of mice in the study\n",
    "\n",
    "num_mice = len(mouse_df['Mouse ID'].value_counts())\n",
    "\n",
    "print(f'\\nThe number of mice in the study is:  {num_mice}\\n')"
   ]
  },
  {
   "cell_type": "code",
   "execution_count": 5,
   "metadata": {
    "scrolled": false
   },
   "outputs": [
    {
     "name": "stdout",
     "output_type": "stream",
     "text": [
      "\n",
      "Mice: ['g989', 'g989', 'g989', 'g989', 'g989'] were duplicated at time points: [0, 5, 10, 15, 20]\n",
      "\n"
     ]
    }
   ],
   "source": [
    "# First, determine where duplications are occurring in Timepoint\n",
    "# Use groupby using TimePoint to identify duplications\n",
    "\n",
    "dupl = data_df.groupby('Timepoint')\n",
    "\n",
    "# looking for instances where [mouse] was in each time point series more than once\n",
    "filt = dupl['Mouse ID'].value_counts()>1 \n",
    "\n",
    "# make a new series 'test' to understand where filt was true (mulit-index series for timepoint and mice)\n",
    "test = filt[filt == True] \n",
    "\n",
    "# use the primary index of Timepoints to determine where duplications occured\n",
    "times_dupl = list(test.index.get_level_values(0)) \n",
    "\n",
    "# use the second index to find Mouse IDs that correspond with duplicate Timepoints\n",
    "mice_dupl = list(test.index.get_level_values(1)) \n",
    "\n",
    "# print the mice and time increments representing duplications\n",
    "\n",
    "print(f'\\nMice: {mice_dupl} were duplicated at time points: {times_dupl}\\n')"
   ]
  },
  {
   "cell_type": "code",
   "execution_count": 6,
   "metadata": {},
   "outputs": [
    {
     "name": "stdout",
     "output_type": "stream",
     "text": [
      " \n",
      "There were 5 duplicated entries in the original data file:\n",
      " \n",
      " \n",
      "Set 1 duplications:\n",
      "\n",
      "     Mouse ID Drug Regimen     Sex  Age_months  Weight (g)  Timepoint  \\\n",
      "908     g989     Propriva  Female          21          26          0   \n",
      "909     g989     Propriva  Female          21          26          0   \n",
      "\n",
      "     Tumor Volume (mm3)  Metastatic Sites  \n",
      "908                45.0                 0  \n",
      "909                45.0                 0  \n",
      " \n",
      "Set 2 duplications:\n",
      "\n",
      "     Mouse ID Drug Regimen     Sex  Age_months  Weight (g)  Timepoint  \\\n",
      "910     g989     Propriva  Female          21          26          5   \n",
      "911     g989     Propriva  Female          21          26          5   \n",
      "\n",
      "     Tumor Volume (mm3)  Metastatic Sites  \n",
      "910           48.786801                 0  \n",
      "911           47.570392                 0  \n",
      " \n",
      "Set 3 duplications:\n",
      "\n",
      "     Mouse ID Drug Regimen     Sex  Age_months  Weight (g)  Timepoint  \\\n",
      "912     g989     Propriva  Female          21          26         10   \n",
      "913     g989     Propriva  Female          21          26         10   \n",
      "\n",
      "     Tumor Volume (mm3)  Metastatic Sites  \n",
      "912           51.745156                 0  \n",
      "913           49.880528                 0  \n",
      " \n",
      "Set 4 duplications:\n",
      "\n",
      "     Mouse ID Drug Regimen     Sex  Age_months  Weight (g)  Timepoint  \\\n",
      "914     g989     Propriva  Female          21          26         15   \n",
      "915     g989     Propriva  Female          21          26         15   \n",
      "\n",
      "     Tumor Volume (mm3)  Metastatic Sites  \n",
      "914           51.325852                 1  \n",
      "915           53.442020                 0  \n",
      " \n",
      "Set 5 duplications:\n",
      "\n",
      "     Mouse ID Drug Regimen     Sex  Age_months  Weight (g)  Timepoint  \\\n",
      "916     g989     Propriva  Female          21          26         20   \n",
      "917     g989     Propriva  Female          21          26         20   \n",
      "\n",
      "     Tumor Volume (mm3)  Metastatic Sites  \n",
      "916           55.326122                 1  \n",
      "917           54.657650                 1  \n"
     ]
    }
   ],
   "source": [
    "# Find indexes in the original dataframe for the duplications\n",
    "# Show the study data for the duplications\n",
    "\n",
    "index_dupl=[]\n",
    "\n",
    "print(f' \\nThere were {len(mice_dupl)} duplicated entries in the original data file:\\n ')\n",
    "for x in range(0,len(mice_dupl)):\n",
    "    \n",
    "    # set up the filter for the duplications\n",
    "    filt = (data_df['Mouse ID'] == mice_dupl[x]) & (data_df['Timepoint']==times_dupl[x]) \n",
    "    \n",
    "    # print the study data for each duplication\n",
    "    print(f' \\nSet {x+1} duplications:\\n\\n {data_df.loc[filt]}')\n",
    "    \n",
    "    # save the index pairs for each duplication\n",
    "    index_dupl.append(data_df.loc[filt].index[0]) # append one of the index pairs to a series"
   ]
  },
  {
   "cell_type": "code",
   "execution_count": 7,
   "metadata": {},
   "outputs": [
    {
     "name": "stdout",
     "output_type": "stream",
     "text": [
      " \n",
      "The cleaned data frame has 1888 data sets using 249 mice\n",
      "\n"
     ]
    },
    {
     "name": "stderr",
     "output_type": "stream",
     "text": [
      "C:\\Users\\jtstr\\anaconda\\envs\\PythonData\\lib\\site-packages\\pandas\\core\\indexes\\base.py:3941: FutureWarning: Using a non-tuple sequence for multidimensional indexing is deprecated; use `arr[tuple(seq)]` instead of `arr[seq]`. In the future this will be interpreted as an array index, `arr[np.array(seq)]`, which will result either in an error or a different result.\n",
      "  result = getitem(key)\n"
     ]
    }
   ],
   "source": [
    "# make a clean data frame that removes one of the duplication rows using drop method\n",
    "\n",
    "clean_df = data_df.drop(data_df.index[[index_dupl]], axis = 0)\n",
    "\n",
    "# determine the number of mice in the study to make sure no mice were removed when cleaning the data frame\n",
    "\n",
    "num_mice = len(clean_df['Mouse ID'].value_counts())\n",
    "\n",
    "print(f' \\nThe cleaned data frame has {len(clean_df)} data sets using {num_mice} mice\\n')"
   ]
  },
  {
   "cell_type": "code",
   "execution_count": 8,
   "metadata": {},
   "outputs": [
    {
     "data": {
      "text/html": [
       "<div>\n",
       "<style scoped>\n",
       "    .dataframe tbody tr th:only-of-type {\n",
       "        vertical-align: middle;\n",
       "    }\n",
       "\n",
       "    .dataframe tbody tr th {\n",
       "        vertical-align: top;\n",
       "    }\n",
       "\n",
       "    .dataframe thead th {\n",
       "        text-align: right;\n",
       "    }\n",
       "</style>\n",
       "<table border=\"1\" class=\"dataframe\">\n",
       "  <thead>\n",
       "    <tr style=\"text-align: right;\">\n",
       "      <th></th>\n",
       "      <th>Mean</th>\n",
       "      <th>Median</th>\n",
       "      <th>Variance</th>\n",
       "      <th>Std Dev</th>\n",
       "      <th>SEM</th>\n",
       "    </tr>\n",
       "    <tr>\n",
       "      <th>Drug Regimen</th>\n",
       "      <th></th>\n",
       "      <th></th>\n",
       "      <th></th>\n",
       "      <th></th>\n",
       "      <th></th>\n",
       "    </tr>\n",
       "  </thead>\n",
       "  <tbody>\n",
       "    <tr>\n",
       "      <th>Ramicane</th>\n",
       "      <td>40.216745</td>\n",
       "      <td>40.673236</td>\n",
       "      <td>23.383692</td>\n",
       "      <td>4.835669</td>\n",
       "      <td>0.320955</td>\n",
       "    </tr>\n",
       "    <tr>\n",
       "      <th>Capomulin</th>\n",
       "      <td>40.675741</td>\n",
       "      <td>41.557809</td>\n",
       "      <td>24.839296</td>\n",
       "      <td>4.983904</td>\n",
       "      <td>0.329346</td>\n",
       "    </tr>\n",
       "    <tr>\n",
       "      <th>Propriva</th>\n",
       "      <td>52.382993</td>\n",
       "      <td>50.783528</td>\n",
       "      <td>42.943152</td>\n",
       "      <td>6.553102</td>\n",
       "      <td>0.526358</td>\n",
       "    </tr>\n",
       "    <tr>\n",
       "      <th>Ceftamin</th>\n",
       "      <td>52.591172</td>\n",
       "      <td>51.776157</td>\n",
       "      <td>39.069446</td>\n",
       "      <td>6.250556</td>\n",
       "      <td>0.469821</td>\n",
       "    </tr>\n",
       "    <tr>\n",
       "      <th>Infubinol</th>\n",
       "      <td>52.884795</td>\n",
       "      <td>51.820584</td>\n",
       "      <td>42.886388</td>\n",
       "      <td>6.548770</td>\n",
       "      <td>0.492236</td>\n",
       "    </tr>\n",
       "    <tr>\n",
       "      <th>Zoniferol</th>\n",
       "      <td>53.236507</td>\n",
       "      <td>51.818479</td>\n",
       "      <td>48.266689</td>\n",
       "      <td>6.947423</td>\n",
       "      <td>0.516398</td>\n",
       "    </tr>\n",
       "    <tr>\n",
       "      <th>Placebo</th>\n",
       "      <td>54.033581</td>\n",
       "      <td>52.288934</td>\n",
       "      <td>60.830138</td>\n",
       "      <td>7.799368</td>\n",
       "      <td>0.581331</td>\n",
       "    </tr>\n",
       "    <tr>\n",
       "      <th>Stelasyn</th>\n",
       "      <td>54.233149</td>\n",
       "      <td>52.431737</td>\n",
       "      <td>59.122106</td>\n",
       "      <td>7.689090</td>\n",
       "      <td>0.573111</td>\n",
       "    </tr>\n",
       "    <tr>\n",
       "      <th>Naftisol</th>\n",
       "      <td>54.331565</td>\n",
       "      <td>52.509285</td>\n",
       "      <td>65.817708</td>\n",
       "      <td>8.112811</td>\n",
       "      <td>0.596466</td>\n",
       "    </tr>\n",
       "    <tr>\n",
       "      <th>Ketapril</th>\n",
       "      <td>55.235638</td>\n",
       "      <td>53.698743</td>\n",
       "      <td>68.188930</td>\n",
       "      <td>8.257659</td>\n",
       "      <td>0.603860</td>\n",
       "    </tr>\n",
       "  </tbody>\n",
       "</table>\n",
       "</div>"
      ],
      "text/plain": [
       "                   Mean     Median   Variance   Std Dev       SEM\n",
       "Drug Regimen                                                     \n",
       "Ramicane      40.216745  40.673236  23.383692  4.835669  0.320955\n",
       "Capomulin     40.675741  41.557809  24.839296  4.983904  0.329346\n",
       "Propriva      52.382993  50.783528  42.943152  6.553102  0.526358\n",
       "Ceftamin      52.591172  51.776157  39.069446  6.250556  0.469821\n",
       "Infubinol     52.884795  51.820584  42.886388  6.548770  0.492236\n",
       "Zoniferol     53.236507  51.818479  48.266689  6.947423  0.516398\n",
       "Placebo       54.033581  52.288934  60.830138  7.799368  0.581331\n",
       "Stelasyn      54.233149  52.431737  59.122106  7.689090  0.573111\n",
       "Naftisol      54.331565  52.509285  65.817708  8.112811  0.596466\n",
       "Ketapril      55.235638  53.698743  68.188930  8.257659  0.603860"
      ]
     },
     "execution_count": 8,
     "metadata": {},
     "output_type": "execute_result"
    }
   ],
   "source": [
    "# Generate a summary statistics table of mean, median, variance, standard deviation,and SEM of the tumor volume for each regimen\n",
    "\n",
    "# Use groupby method and aggregate functions to generate the statistics data series\n",
    "\n",
    "drug_gb = clean_df.groupby(['Drug Regimen'])\n",
    "dtv_mean = drug_gb['Tumor Volume (mm3)'].mean()\n",
    "\n",
    "dtv_med = drug_gb['Tumor Volume (mm3)'].median()\n",
    "dtv_var = drug_gb['Tumor Volume (mm3)'].var(ddof = 0)\n",
    "dtv_stdv = drug_gb['Tumor Volume (mm3)'].std(ddof = 0)\n",
    "dtv_sem = drug_gb['Tumor Volume (mm3)'].sem(ddof = 1)\n",
    "\n",
    "# Use concat to join each data series into one dataframe\n",
    "\n",
    "dtv_stat = pd.concat([dtv_mean,dtv_med,dtv_var, dtv_stdv, dtv_sem], axis='columns', sort = False)\n",
    "dtv_stat.columns = ['Mean', 'Median', 'Variance', 'Std Dev', 'SEM']\n",
    "dtv_stat.sort_values(by = 'Mean', ascending = True)\n"
   ]
  },
  {
   "cell_type": "code",
   "execution_count": 9,
   "metadata": {},
   "outputs": [
    {
     "data": {
      "text/html": [
       "<div>\n",
       "<style scoped>\n",
       "    .dataframe tbody tr th:only-of-type {\n",
       "        vertical-align: middle;\n",
       "    }\n",
       "\n",
       "    .dataframe tbody tr th {\n",
       "        vertical-align: top;\n",
       "    }\n",
       "\n",
       "    .dataframe thead th {\n",
       "        text-align: right;\n",
       "    }\n",
       "</style>\n",
       "<table border=\"1\" class=\"dataframe\">\n",
       "  <thead>\n",
       "    <tr style=\"text-align: right;\">\n",
       "      <th></th>\n",
       "      <th>mean</th>\n",
       "      <th>median</th>\n",
       "      <th>var</th>\n",
       "      <th>std</th>\n",
       "      <th>sem</th>\n",
       "    </tr>\n",
       "    <tr>\n",
       "      <th>Drug Regimen</th>\n",
       "      <th></th>\n",
       "      <th></th>\n",
       "      <th></th>\n",
       "      <th></th>\n",
       "      <th></th>\n",
       "    </tr>\n",
       "  </thead>\n",
       "  <tbody>\n",
       "    <tr>\n",
       "      <th>Capomulin</th>\n",
       "      <td>40.675741</td>\n",
       "      <td>41.557809</td>\n",
       "      <td>24.947764</td>\n",
       "      <td>4.994774</td>\n",
       "      <td>0.329346</td>\n",
       "    </tr>\n",
       "    <tr>\n",
       "      <th>Ceftamin</th>\n",
       "      <td>52.591172</td>\n",
       "      <td>51.776157</td>\n",
       "      <td>39.290177</td>\n",
       "      <td>6.268188</td>\n",
       "      <td>0.469821</td>\n",
       "    </tr>\n",
       "    <tr>\n",
       "      <th>Infubinol</th>\n",
       "      <td>52.884795</td>\n",
       "      <td>51.820584</td>\n",
       "      <td>43.128684</td>\n",
       "      <td>6.567243</td>\n",
       "      <td>0.492236</td>\n",
       "    </tr>\n",
       "    <tr>\n",
       "      <th>Ketapril</th>\n",
       "      <td>55.235638</td>\n",
       "      <td>53.698743</td>\n",
       "      <td>68.553577</td>\n",
       "      <td>8.279709</td>\n",
       "      <td>0.603860</td>\n",
       "    </tr>\n",
       "    <tr>\n",
       "      <th>Naftisol</th>\n",
       "      <td>54.331565</td>\n",
       "      <td>52.509285</td>\n",
       "      <td>66.173479</td>\n",
       "      <td>8.134708</td>\n",
       "      <td>0.596466</td>\n",
       "    </tr>\n",
       "    <tr>\n",
       "      <th>Placebo</th>\n",
       "      <td>54.033581</td>\n",
       "      <td>52.288934</td>\n",
       "      <td>61.168083</td>\n",
       "      <td>7.821003</td>\n",
       "      <td>0.581331</td>\n",
       "    </tr>\n",
       "    <tr>\n",
       "      <th>Propriva</th>\n",
       "      <td>52.382993</td>\n",
       "      <td>50.783528</td>\n",
       "      <td>43.220205</td>\n",
       "      <td>6.574208</td>\n",
       "      <td>0.526358</td>\n",
       "    </tr>\n",
       "    <tr>\n",
       "      <th>Ramicane</th>\n",
       "      <td>40.216745</td>\n",
       "      <td>40.673236</td>\n",
       "      <td>23.486704</td>\n",
       "      <td>4.846308</td>\n",
       "      <td>0.320955</td>\n",
       "    </tr>\n",
       "    <tr>\n",
       "      <th>Stelasyn</th>\n",
       "      <td>54.233149</td>\n",
       "      <td>52.431737</td>\n",
       "      <td>59.450562</td>\n",
       "      <td>7.710419</td>\n",
       "      <td>0.573111</td>\n",
       "    </tr>\n",
       "    <tr>\n",
       "      <th>Zoniferol</th>\n",
       "      <td>53.236507</td>\n",
       "      <td>51.818479</td>\n",
       "      <td>48.533355</td>\n",
       "      <td>6.966589</td>\n",
       "      <td>0.516398</td>\n",
       "    </tr>\n",
       "  </tbody>\n",
       "</table>\n",
       "</div>"
      ],
      "text/plain": [
       "                   mean     median        var       std       sem\n",
       "Drug Regimen                                                     \n",
       "Capomulin     40.675741  41.557809  24.947764  4.994774  0.329346\n",
       "Ceftamin      52.591172  51.776157  39.290177  6.268188  0.469821\n",
       "Infubinol     52.884795  51.820584  43.128684  6.567243  0.492236\n",
       "Ketapril      55.235638  53.698743  68.553577  8.279709  0.603860\n",
       "Naftisol      54.331565  52.509285  66.173479  8.134708  0.596466\n",
       "Placebo       54.033581  52.288934  61.168083  7.821003  0.581331\n",
       "Propriva      52.382993  50.783528  43.220205  6.574208  0.526358\n",
       "Ramicane      40.216745  40.673236  23.486704  4.846308  0.320955\n",
       "Stelasyn      54.233149  52.431737  59.450562  7.710419  0.573111\n",
       "Zoniferol     53.236507  51.818479  48.533355  6.966589  0.516398"
      ]
     },
     "execution_count": 9,
     "metadata": {},
     "output_type": "execute_result"
    }
   ],
   "source": [
    "# Generate a summary statistics table of mean, median, variance, standard deviation, and SEM of the tumor volume for each regimen\n",
    "\n",
    "# Using the aggregation method, produce the same summary statistics in a single line\n",
    "\n",
    "dtv_agg = drug_gb['Tumor Volume (mm3)'].agg([np.mean,np.median,np.var,np.std,sem])\n",
    "dtv_agg"
   ]
  },
  {
   "cell_type": "code",
   "execution_count": 10,
   "metadata": {},
   "outputs": [
    {
     "data": {
      "image/png": "[encoded data removed]",
      "text/plain": [
       "<Figure size 1080x216 with 1 Axes>"
      ]
     },
     "metadata": {
      "needs_background": "light"
     },
     "output_type": "display_data"
    }
   ],
   "source": [
    "# Generate a bar plot showing the total number of measurements taken on each drug regimen using pandas.\n",
    "\n",
    "data = data_df['Drug Regimen'].value_counts()\n",
    "drugs = data.index\n",
    "\n",
    "drug_bar = data.plot(kind=\"bar\", figsize=(15,3))\n",
    "\n",
    "plt.title(\"Number of Measurements for Each Drug Regimen\")\n",
    "drug_bar.set_xlabel(\"Name of Drug\")\n",
    "drug_bar.set_ylabel(\"Number of Measurements\")\n",
    "\n",
    "fig1 = drug_bar.get_figure()\n",
    "\n",
    "fig1.savefig(\"./Images/drug_mmts_pandas.png\")"
   ]
  },
  {
   "cell_type": "code",
   "execution_count": 11,
   "metadata": {},
   "outputs": [
    {
     "data": {
      "text/plain": [
       "<matplotlib.axes._subplots.AxesSubplot at 0x22d088541d0>"
      ]
     },
     "execution_count": 11,
     "metadata": {},
     "output_type": "execute_result"
    },
    {
     "data": {
      "image/png": "[encoded data removed]",
      "text/plain": [
       "<Figure size 360x720 with 1 Axes>"
      ]
     },
     "metadata": {},
     "output_type": "display_data"
    }
   ],
   "source": [
    "# Note I know I wasn't required to do this but wanted to try :)\n",
    "\n",
    "drug_gb['Tumor Volume (mm3)'].mean().plot(kind='pie', figsize=(5,10), autopct='%1.1f%%')"
   ]
  },
  {
   "cell_type": "code",
   "execution_count": 12,
   "metadata": {},
   "outputs": [
    {
     "data": {
      "image/png": "[encoded data removed]",
      "text/plain": [
       "<Figure size 1080x288 with 1 Axes>"
      ]
     },
     "metadata": {
      "needs_background": "light"
     },
     "output_type": "display_data"
    }
   ],
   "source": [
    "# Generate a bar plot showing the total number of measurements taken on each drug regimen using pyplot.\n",
    "\n",
    "x_axis = np.arange(len(data))\n",
    "plt.figure(figsize=(15,4))\n",
    "plt.bar(x_axis, data, color='r', alpha=0.5, align=\"center\")\n",
    "\n",
    "plt.xlim(-0.75, len(x_axis)-0.25)\n",
    "plt.ylim(0, max(data)+5)\n",
    "plt.title(\"Number of Measurements per Drug Regimen\")\n",
    "plt.xlabel(\"Drug Name\")\n",
    "plt.ylabel(\"Number of Measurements\")\n",
    "\n",
    "tick_locations = [value for value in x_axis]\n",
    "plt.xticks(tick_locations, drugs)\n",
    "\n",
    "plt.savefig(\"./Images/drug_regimen_mmts_pyplot.png\")"
   ]
  },
  {
   "cell_type": "code",
   "execution_count": 13,
   "metadata": {},
   "outputs": [
    {
     "data": {
      "image/png": "[encoded data removed]",
      "text/plain": [
       "<Figure size 1080x360 with 1 Axes>"
      ]
     },
     "metadata": {},
     "output_type": "display_data"
    }
   ],
   "source": [
    "# Generate a pie plot showing the distribution of female versus male mice using pandas\n",
    "\n",
    "sex = data_df['Sex'].value_counts()\n",
    "\n",
    "genders = sex.index\n",
    "drug_pie = sex.plot(kind=\"pie\", figsize=(15,5), title = \"Mouse Gender Distribution\", autopct='%1.1f%%', startangle=-1.5)\n",
    "\n",
    "plt.savefig(\"./Images/mouse_gen_pie_pandas.png\")"
   ]
  },
  {
   "cell_type": "code",
   "execution_count": 14,
   "metadata": {},
   "outputs": [
    {
     "data": {
      "image/png": "[encoded data removed]",
      "text/plain": [
       "<Figure size 432x288 with 1 Axes>"
      ]
     },
     "metadata": {},
     "output_type": "display_data"
    }
   ],
   "source": [
    "# Generate a pie plot showing the distribution of female versus male mice using pyplot\n",
    "\n",
    "# The colors of each section of the pie chart\n",
    "colors = [\"red\", \"orange\"]\n",
    "\n",
    "# Tells matplotlib to seperate the \"Humans\" section from the others\n",
    "explode = (0.1, 0.1)\n",
    "\n",
    "plt.pie(sex, explode=explode, labels=genders, colors=colors,\n",
    "        autopct=\"%1.1f%%\", shadow=True, startangle=140)\n",
    "plt.axis(\"equal\")\n",
    "\n",
    "plt.savefig(\"./Images/mouse_gen_pie_pyplot.png\")"
   ]
  },
  {
   "cell_type": "code",
   "execution_count": 15,
   "metadata": {},
   "outputs": [
    {
     "name": "stdout",
     "output_type": "stream",
     "text": [
      "         Drug Regimen  Tumor Volume (mm3)\n",
      "Mouse ID                                 \n",
      "c139        Infubinol           72.226731\n",
      "k210         Ceftamin           68.923185\n",
      "y769         Ceftamin           68.594745\n",
      "a203        Infubinol           67.973419\n",
      "l471         Ceftamin           67.748662\n",
      "y163        Infubinol           67.685569\n",
      "w151         Ceftamin           67.527482\n",
      "k483        Infubinol           66.196912\n",
      "a685        Infubinol           66.083066\n",
      "a251        Infubinol           65.525743\n"
     ]
    }
   ],
   "source": [
    "# Calculate the final tumor volume of each mouse across four of the treatment regimens:  \n",
    "# Capomulin, Ramicane, Infubinol, and Ceftamin\n",
    "\n",
    "drug_list = [\"Capomulin\", \"Ramicane\", \"Infubinol\", \"Ceftamin\"]\n",
    "\n",
    "# parse initial data frame by filtering on Timepoint = 45 and setting index to Mouse ID\n",
    "# final_list = data_df[data_df.loc[:,'Timepoint']==45].sort_values('Drug Regimen',ascending = True).set_index('Mouse ID')\n",
    "final_list = data_df[data_df.loc[:,'Timepoint']==45].set_index('Mouse ID')\n",
    "\n",
    "# filter data frame to include only the four drugs of interest\n",
    "filt = (final_list['Drug Regimen']=='Capomulin') |(final_list['Drug Regimen']=='Ramicane')|(final_list['Drug Regimen']=='Infubinol') | (final_list['Drug Regimen']=='Ceftamin')\n",
    "final_list = final_list.loc[filt]\n",
    "\n",
    "# remove extraneous columns, sort by tumor volume and display only the top 10 \n",
    "short_df = final_list[['Drug Regimen', 'Tumor Volume (mm3)']].sort_values('Tumor Volume (mm3)',ascending = False).head(10)\n",
    "print(short_df)"
   ]
  },
  {
   "cell_type": "code",
   "execution_count": 16,
   "metadata": {},
   "outputs": [
    {
     "name": "stdout",
     "output_type": "stream",
     "text": [
      "\n",
      " The summary quartile data is shown in the below table:\n",
      "\n",
      "         Drug  1st Quartile  2nd Quartile  3rd Quartile       IQR  Lower Bound  \\\n",
      "0  Capomulin     32.377357     37.311846     40.159220  7.781863    20.704562   \n",
      "1   Ramicane     30.981175     34.848627     38.508305  7.527130    19.690480   \n",
      "2  Infubinol     62.754451     66.083066     67.685569  4.931117    55.357776   \n",
      "3   Ceftamin     61.433892     64.299830     67.527482  6.093590    52.293507   \n",
      "\n",
      "   Upper Bound  Num Outliers  \n",
      "0    51.832015             0  \n",
      "1    49.799000             0  \n",
      "2    75.082244             0  \n",
      "3    76.667868             0  \n",
      "\n",
      "The number of outliers for Capomulin is : 0\n",
      "The number of outliers for Ramicane is : 0\n",
      "The number of outliers for Infubinol is : 0\n",
      "The number of outliers for Ceftamin is : 0\n"
     ]
    },
    {
     "name": "stderr",
     "output_type": "stream",
     "text": [
      "C:\\Users\\jtstr\\anaconda\\envs\\PythonData\\lib\\site-packages\\ipykernel_launcher.py:43: UserWarning: Boolean Series key will be reindexed to match DataFrame index.\n"
     ]
    }
   ],
   "source": [
    "#Calculate the quartiles and IQR and quantitatively determine if there are any potential outliers across all four treatment regimens.\n",
    "\n",
    "# create new dataframe to narrow the list to Timepoint = 45\n",
    "new_list = data_df[data_df.loc[:,'Timepoint']==45]\n",
    "\n",
    "\n",
    "# create blank library for stats data\n",
    "blank_df = pd.DataFrame({'Drug':0, '1st Quartile':0,'2nd Quartile':0,\n",
    "                         '3rd Quartile':0, 'IQR':0, 'Lower Bound':0,'Upper Bound':0}, index=[0])\n",
    "\n",
    "# create library of stats for each drug; use for loop and variable dataframe assignment\n",
    "for drug in drug_list:\n",
    "    vol = new_list[new_list.loc[:,'Drug Regimen']==drug]['Tumor Volume (mm3)']\n",
    "    tv_qrt = vol.quantile([0.25,0.5,0.75])\n",
    "    tv_1qrt = tv_qrt[0.25]\n",
    "    tv_2qrt = tv_qrt[0.5]\n",
    "    tv_3qrt = tv_qrt[0.75]\n",
    "    tv_qrng = tv_3qrt-tv_1qrt\n",
    "    tv_lower_bound = tv_1qrt - (1.5*tv_qrng)\n",
    "    tv_upper_bound = tv_3qrt + (1.5*tv_qrng)\n",
    "    vars()[drug]=pd.DataFrame({'Drug':drug, '1st Quartile':tv_1qrt, '2nd Quartile': tv_2qrt,\n",
    "                               '3rd Quartile': tv_3qrt, 'IQR': tv_qrng, 'Lower Bound': tv_lower_bound,\n",
    "                               'Upper Bound': tv_upper_bound}, index=[drug])\n",
    "    \n",
    "# append dataframes together & drop blank row\n",
    "qrtile_df = blank_df.append([Capomulin, Ramicane, Infubinol, Ceftamin])\n",
    "qrtile_df.drop(([0]), inplace = True)\n",
    "\n",
    "# retrieve tumor volume data for each drug\n",
    "tv_cap_vol = new_list[new_list.loc[:,'Drug Regimen']=='Capomulin'][['Tumor Volume (mm3)']]\n",
    "tv_ram_vol = new_list[new_list.loc[:,'Drug Regimen']=='Ramicane'][['Tumor Volume (mm3)']]\n",
    "tv_inf_vol = new_list[new_list.loc[:,'Drug Regimen']=='Infubinol'][['Tumor Volume (mm3)']]\n",
    "tv_cef_vol = new_list[new_list.loc[:,'Drug Regimen']=='Ceftamin'][['Tumor Volume (mm3)']]\n",
    "\n",
    "# set up filters for each drug tumor volume series to test for outliers\n",
    "filt1 = (tv_cap_vol.loc[:,'Tumor Volume (mm3)']>qrtile_df.loc['Capomulin','Upper Bound']) | (tv_cap_vol.loc[:,'Tumor Volume (mm3)']<qrtile_df.loc['Capomulin','Lower Bound'])\n",
    "filt2 = (tv_ram_vol.loc[:,'Tumor Volume (mm3)']>qrtile_df.loc['Ramicane','Upper Bound']) | (tv_cap_vol.loc[:,'Tumor Volume (mm3)']<qrtile_df.loc['Ramicane','Lower Bound'])\n",
    "filt3 = (tv_inf_vol.loc[:,'Tumor Volume (mm3)']>qrtile_df.loc['Infubinol','Upper Bound']) | (tv_inf_vol.loc[:,'Tumor Volume (mm3)']<qrtile_df.loc['Infubinol','Lower Bound'])\n",
    "filt4 = (tv_cef_vol.loc[:,'Tumor Volume (mm3)']>qrtile_df.loc['Ceftamin','Upper Bound']) |(tv_cef_vol.loc[:,'Tumor Volume (mm3)']<qrtile_df.loc['Ceftamin','Lower Bound'])\n",
    "\n",
    "# apply filter to the date series\n",
    "cap_num_out = tv_cap_vol[filt1]\n",
    "ram_num_out = tv_ram_vol[filt2]\n",
    "inf_num_out = tv_inf_vol[filt3]\n",
    "cef_num_out = tv_cef_vol[filt4]\n",
    "\n",
    "# Make outlier dataframe and merge with quartile dataframe\n",
    "outlier_df = pd.DataFrame({'Drug': drug_list,\n",
    "                          'Num Outliers':[cap_num_out['Tumor Volume (mm3)'].count(),\n",
    "                                         ram_num_out['Tumor Volume (mm3)'].count(),\n",
    "                                         inf_num_out['Tumor Volume (mm3)'].count(),\n",
    "                                         cef_num_out['Tumor Volume (mm3)'].count()]})\n",
    "qrtile_df = qrtile_df.merge(outlier_df, how='left').reset_index(drop=True)\n",
    "\n",
    "# print results\n",
    "\n",
    "# print quartile statistics and outlier count dataframe\n",
    "print(f'\\n The summary quartile data is shown in the below table:\\n\\n {qrtile_df}\\n')\n",
    "\n",
    "# print number of outliers for each drug regimen\n",
    "print(f\"The number of outliers for Capomulin is : {cap_num_out['Tumor Volume (mm3)'].count()}\")\n",
    "print(f\"The number of outliers for Ramicane is : {ram_num_out['Tumor Volume (mm3)'].count()}\")\n",
    "print(f\"The number of outliers for Infubinol is : {inf_num_out['Tumor Volume (mm3)'].count()}\")\n",
    "print(f\"The number of outliers for Ceftamin is : {cef_num_out['Tumor Volume (mm3)'].count()}\")\n"
   ]
  },
  {
   "cell_type": "code",
   "execution_count": 17,
   "metadata": {},
   "outputs": [
    {
     "data": {
      "image/png": "[encoded data removed]",
      "text/plain": [
       "<Figure size 432x288 with 4 Axes>"
      ]
     },
     "metadata": {
      "needs_background": "light"
     },
     "output_type": "display_data"
    }
   ],
   "source": [
    "#Using Matplotlib, generate a box and whisker plot of the final tumor volume for all four treatment regimens\n",
    "#and highlight any potential outliers in the plot by changing their color and style.\n",
    "\n",
    "fig, axs = plt.subplots(2,2)\n",
    "axs[0, 0].boxplot(tv_cap_vol['Tumor Volume (mm3)'])\n",
    "axs[0, 0].set_title('Capomulin')\n",
    "axs[0, 0].set_ylabel('Tumor Volume (mm3)')\n",
    "\n",
    "axs[0, 1].boxplot(tv_ram_vol['Tumor Volume (mm3)'])\n",
    "axs[0, 1].set_title('Ramicane')\n",
    "axs[0, 1].set_ylabel('Tumor Volume (mm3)')\n",
    "\n",
    "axs[1, 0].boxplot(tv_inf_vol['Tumor Volume (mm3)'])\n",
    "axs[1, 0].set_title('Infubinol')\n",
    "axs[1, 0].set_ylabel('Tumor Volume (mm3)')\n",
    "\n",
    "axs[1, 1].boxplot(tv_cef_vol['Tumor Volume (mm3)'])\n",
    "axs[1, 1].set_title('Ceftamin')\n",
    "axs[1, 1].set_ylabel('Tumor Volume (mm3)')\n",
    "\n",
    "fig.subplots_adjust(left=0.18, right=1.2, bottom=0.05, top=1.9,\n",
    "                    hspace=0.4, wspace=0.3)\n",
    "plt.show()\n",
    "fig.savefig(\"./Images/tumor_BW.png\")"
   ]
  },
  {
   "cell_type": "code",
   "execution_count": 18,
   "metadata": {},
   "outputs": [
    {
     "data": {
      "image/png": "[encoded data removed]",
      "text/plain": [
       "<Figure size 432x288 with 1 Axes>"
      ]
     },
     "metadata": {
      "needs_background": "light"
     },
     "output_type": "display_data"
    }
   ],
   "source": [
    "# Select a mouse that was treated with Capomulin and generate a line plot of tumor volume vs. time point for that mouse.\n",
    "filt = (data_df.loc[:,'Drug Regimen'] == 'Capomulin') & (data_df.loc[:,'Mouse ID'] == 's185')\n",
    "cap_s185_df = data_df[filt]\n",
    "\n",
    "time = cap_s185_df['Timepoint']\n",
    "tumorVol = cap_s185_df['Tumor Volume (mm3)']\n",
    "plt.plot(time, tumorVol, linewidth=1, marker=\"+\", color=\"green\")\n",
    "plt.title(\"Mouse s185 Tumor Vol vs Time: Drug Regimen Capomulin\")\n",
    "plt.xlabel(\"Time\")\n",
    "plt.ylabel(\"Tumor Volume (mm3)\")\n",
    "plt.savefig(\"./Images/tumorvol_time_s185.png\")"
   ]
  },
  {
   "cell_type": "code",
   "execution_count": 19,
   "metadata": {},
   "outputs": [
    {
     "name": "stdout",
     "output_type": "stream",
     "text": [
      "The correlation between both factors is 0.84\n",
      "The r-squared is: 0.71\n"
     ]
    },
    {
     "data": {
      "image/png": "[encoded data removed]",
      "text/plain": [
       "<Figure size 432x288 with 1 Axes>"
      ]
     },
     "metadata": {
      "needs_background": "light"
     },
     "output_type": "display_data"
    }
   ],
   "source": [
    "# Generate a scatter plot of mouse weight versus average tumor volume for the Capomulin treatment regimen.\n",
    "\n",
    "# filter the dataframe for Capomulin and group by Mouse ID\n",
    "filt = data_df.loc[:,'Drug Regimen'] == 'Capomulin'\n",
    "cap_df = data_df[filt]\n",
    "x = cap_df.groupby('Mouse ID')\n",
    "cap_avg_tumvol = x.mean()\n",
    "\n",
    "# set x and y axes\n",
    "x_axis = cap_avg_tumvol['Weight (g)']\n",
    "y_axis = cap_avg_tumvol['Tumor Volume (mm3)']\n",
    "\n",
    "# make scatter plot\n",
    "plt.scatter(x_axis,y_axis,marker=\"o\", facecolors=\"blue\", edgecolors=\"black\",\n",
    "            s=x_axis, alpha=0.75)\n",
    "plt.title('Mouse Weight vs Tumor Volume: Drug Regimen Capomulin')\n",
    "plt.xlabel('Mouse Weight (g)')\n",
    "plt.ylabel('AVG Tumor Volume (mm3)')\n",
    "\n",
    "# find pearson correlation coefficient\n",
    "correlation = st.pearsonr(x_axis,y_axis)\n",
    "\n",
    "# perform linear regression\n",
    "(slope, intercept, rvalue, pvalue, stderr) = linregress(x_axis, y_axis)\n",
    "regress_values = x_axis * slope + intercept\n",
    "line_eq = \"y = \" + str(round(slope,2)) + \"x + \" + str(round(intercept,2))\n",
    "\n",
    "# add regression to plot\n",
    "plt.plot(x_axis,regress_values,\"r-\")\n",
    "\n",
    "# annotate plot to include pearson correlation coefficient, r2 and regression model\n",
    "message1 = f'r-squared is: {round(rvalue**2,2)}'\n",
    "message2 = f'pearson correl is: {round(correlation[0],2)}'\n",
    "plt.annotate(line_eq,(21,36),fontsize=10,color=\"black\")\n",
    "plt.annotate(message1,(21,35),fontsize=10,color=\"black\")\n",
    "plt.annotate(message2,(15,45),fontsize=10,color=\"black\")\n",
    "\n",
    "# add output messages\n",
    "print(f\"The correlation between both factors is {round(correlation[0],2)}\")\n",
    "print(f\"The r-squared is: {round(rvalue**2,2)}\")\n",
    "\n",
    "plt.savefig(\"./Images/mouse_tumor_cap.png\")\n",
    "plt.show()\n"
   ]
  },
  {
   "cell_type": "code",
   "execution_count": null,
   "metadata": {},
   "outputs": [],
   "source": []
  }
 ],
 "metadata": {
  "kernelspec": {
   "display_name": "Python [conda env:PythonData] *",
   "language": "python",
   "name": "conda-env-PythonData-py"
  },
  "language_info": {
   "codemirror_mode": {
    "name": "ipython",
    "version": 3
   },
   "file_extension": ".py",
   "mimetype": "text/x-python",
   "name": "python",
   "nbconvert_exporter": "python",
   "pygments_lexer": "ipython3",
   "version": "3.6.10"
  }
 },
 "nbformat": 4,
 "nbformat_minor": 4
}
